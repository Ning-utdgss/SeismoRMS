{
  "nbformat": 4,
  "nbformat_minor": 0,
  "metadata": {
    "colab": {
      "name": "Ning_Test.ipynb",
      "provenance": [],
      "authorship_tag": "ABX9TyP5zSaoQbH0sK60em4RQqeO",
      "include_colab_link": true
    },
    "kernelspec": {
      "name": "python3",
      "display_name": "Python 3"
    }
  },
  "cells": [
    {
      "cell_type": "markdown",
      "metadata": {
        "id": "view-in-github",
        "colab_type": "text"
      },
      "source": [
        "<a href=\"https://colab.research.google.com/github/Ning-utdgss/SeismoRMS/blob/master/Ning_Test.ipynb\" target=\"_parent\"><img src=\"https://colab.research.google.com/assets/colab-badge.svg\" alt=\"Open In Colab\"/></a>"
      ]
    },
    {
      "cell_type": "code",
      "metadata": {
        "id": "sx4tKdwza51m",
        "colab_type": "code",
        "outputId": "0f7bbb9b-0310-4d0d-e6b0-a4dc1bfbab92",
        "colab": {
          "base_uri": "https://localhost:8080/",
          "height": 34
        }
      },
      "source": [
        "1+1"
      ],
      "execution_count": 0,
      "outputs": [
        {
          "output_type": "execute_result",
          "data": {
            "text/plain": [
              "2"
            ]
          },
          "metadata": {
            "tags": []
          },
          "execution_count": 1
        }
      ]
    },
    {
      "cell_type": "code",
      "metadata": {
        "id": "nhWsEE1_bC0Z",
        "colab_type": "code",
        "colab": {
          "base_uri": "https://localhost:8080/",
          "height": 289
        },
        "outputId": "672ab726-7eb1-428d-da7c-455444552167"
      },
      "source": [
        "import pandas as pd\n",
        "\n",
        "df = pd.read_excel (r'Prac_Data.xlsx')\n",
        "print (df)\n"
      ],
      "execution_count": 1,
      "outputs": [
        {
          "output_type": "stream",
          "text": [
            "    Q1    Q2   Q12   Q13\n",
            "0   20  47.0  38.0  14.0\n",
            "1   22  49.0  39.0  16.0\n",
            "2   23  53.0  43.0  17.0\n",
            "3   23  53.0  45.0  17.0\n",
            "4   25  54.0  45.0  18.0\n",
            "5   28  58.0  47.0  21.0\n",
            "6   28  61.0  49.0  21.0\n",
            "7   29  64.0  53.0  24.0\n",
            "8   29  75.0  55.0  25.0\n",
            "9   32  81.0  56.0  26.0\n",
            "10  33   NaN  56.0   NaN\n",
            "11  35   NaN  59.0   NaN\n",
            "12  36   NaN   NaN   NaN\n",
            "13  39   NaN   NaN   NaN\n",
            "14  42   NaN   NaN   NaN\n"
          ],
          "name": "stdout"
        }
      ]
    }
  ]
}